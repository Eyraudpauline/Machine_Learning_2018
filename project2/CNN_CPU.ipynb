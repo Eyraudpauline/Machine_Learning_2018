{
 "cells": [
  {
   "cell_type": "markdown",
   "metadata": {},
   "source": [
    "# Sentiment Analysis by Convolutional Neural Networks (CNN)\n",
    "Inspired by [Bentrevett - ConvolutionalSentiment Analysis](https://github.com/bentrevett/pytorch-sentiment-analysis/blob/master/4%20-%20Convolutional%20Sentiment%20Analysis.ipynb) and the exercises of the class [Data and Artificial Intelligence for Transportation](https://edu.epfl.ch/coursebook/en/data-and-artificial-intelligence-for-transportation-CIVIL-459)"
   ]
  },
  {
   "cell_type": "markdown",
   "metadata": {},
   "source": [
    "### I) Imports"
   ]
  },
  {
   "cell_type": "code",
   "execution_count": 1,
   "metadata": {},
   "outputs": [],
   "source": [
    "import numpy as np\n",
    "import pickle\n",
    "import time\n",
    "\n",
    "import torch\n",
    "from torch import optim\n",
    "from torch.autograd import Variable\n",
    "import torch.utils.data as utils\n",
    "\n",
    "from helpers import *\n",
    "from cnns import *\n",
    "\n",
    "%load_ext autoreload\n",
    "%autoreload 2"
   ]
  },
  {
   "cell_type": "markdown",
   "metadata": {},
   "source": [
    "### II) Load Data and Word Embeddings"
   ]
  },
  {
   "cell_type": "markdown",
   "metadata": {},
   "source": [
    "#### <font color='blue'> Specify file paths here:</font>"
   ]
  },
  {
   "cell_type": "code",
   "execution_count": 2,
   "metadata": {},
   "outputs": [],
   "source": [
    "# define file paths\n",
    "\n",
    "path_embeddings = 'pretrained_glove/embeddings200_pretrained_reduced.npy'\n",
    "path_vocab = 'pretrained_glove/vocab_pretrained_reduced.pkl'\n",
    "path_train_pos = 'pos_train.txt'\n",
    "path_train_neg = 'neg_train.txt'\n",
    "path_test = 'test_data.txt'"
   ]
  },
  {
   "cell_type": "code",
   "execution_count": 3,
   "metadata": {},
   "outputs": [],
   "source": [
    "# load word embeddings\n",
    "embeddings = np.load(path_embeddings)\n",
    "# add line of zeroes to the embeddings for empty words\n",
    "embeddings = np.append(np.zeros((1, embeddings.shape[1])), embeddings, axis=0)\n",
    "# load vocabulary\n",
    "with open(path_vocab, 'rb') as f:\n",
    "    vocab = pickle.load(f)"
   ]
  },
  {
   "cell_type": "code",
   "execution_count": 4,
   "metadata": {},
   "outputs": [
    {
     "name": "stdout",
     "output_type": "stream",
     "text": [
      "Longest tweet has 64 words\n"
     ]
    }
   ],
   "source": [
    "# find maximal tweet length (number of words)\n",
    "longest = 0\n",
    "for file in [path_train_pos, path_train_neg, path_test]:\n",
    "    with open(file) as f:\n",
    "        for line in f:\n",
    "            length = len(line.strip().split())\n",
    "            if length > longest:\n",
    "                longest = length          \n",
    "print(\"Longest tweet has {:d} words\".format(longest))"
   ]
  },
  {
   "cell_type": "code",
   "execution_count": 5,
   "metadata": {},
   "outputs": [],
   "source": [
    "'''\n",
    "For each tweet we create an array containing the indexes of the words in\n",
    "the word embedding matrix. All of these vectors have equal length equivalent\n",
    "to the number of words in the longest tweet. If a tweet doesn't fill everything,\n",
    "we pad with 0. this index corresponds to the embedding [0, 0, 0, ... 0, 0].\n",
    "\n",
    "Data type is int32 in order to minimize memory usage.\n",
    "\n",
    "For the labels, we use the value 0 for negative tweets and 1 for positive tweets.\n",
    "'''\n",
    "\n",
    "#initiate empty feature and label lists\n",
    "x = []\n",
    "y = []\n",
    "\n",
    "# process positive tweets\n",
    "with open(path_train_pos) as f:\n",
    "    for line in f:\n",
    "        tweet = np.int32(np.zeros((longest)))\n",
    "        wordcount = 0\n",
    "        y.append(1)\n",
    "        for word in line.strip().split():\n",
    "            index = vocab.get(word, -1);\n",
    "            # skip words for which we have no embedding\n",
    "            if(index != -1):\n",
    "                tweet[wordcount] = index + 1\n",
    "                wordcount += 1\n",
    "        x.append(tweet)\n",
    "\n",
    "# process negative tweets\n",
    "with open(path_train_neg) as f:\n",
    "    for line in f:\n",
    "        tweet = np.int32(np.zeros((longest)))\n",
    "        wordcount = 0\n",
    "        y.append(0)\n",
    "        for word in line.strip().split():\n",
    "            index = vocab.get(word, -1);\n",
    "            # skip words for which we have no embedding\n",
    "            if(index != -1):\n",
    "                tweet[wordcount] = index + 1\n",
    "                wordcount += 1\n",
    "        x.append(tweet)\n",
    "\n",
    "# transform to numpy array\n",
    "x_train = np.asarray(x)\n",
    "y_train = np.asarray(y)\n",
    " \n",
    "# Shuffle tweets\n",
    "x_train, y_train = shuffle(x_train, y_train)"
   ]
  },
  {
   "cell_type": "code",
   "execution_count": 6,
   "metadata": {},
   "outputs": [],
   "source": [
    "# We proceed process test tweets in the same way as the training tweets\n",
    "x = []\n",
    "\n",
    "with open(path_test) as f:\n",
    "    for line in f:\n",
    "        tweet = np.int32(np.zeros((longest)))\n",
    "        wordcount = 0\n",
    "        for word in line.strip().split():\n",
    "            index = vocab.get(word, -1);\n",
    "            # skip words for which we have no embedding\n",
    "            if(index != -1):\n",
    "                tweet[wordcount] = index + 1\n",
    "                wordcount += 1\n",
    "        x.append(tweet)\n",
    "\n",
    "        # convert to numpy array\n",
    "x_test = np.asarray(x)"
   ]
  },
  {
   "cell_type": "markdown",
   "metadata": {},
   "source": [
    "### III) Train Model"
   ]
  },
  {
   "cell_type": "markdown",
   "metadata": {},
   "source": [
    "#### <font color='blue'> Specify Hyperparameters</font>"
   ]
  },
  {
   "cell_type": "code",
   "execution_count": 7,
   "metadata": {},
   "outputs": [],
   "source": [
    "# specify the network you want to use\n",
    "net = SimpleConvNet(torch.from_numpy(embeddings).float())\n",
    "# decide how many training tweets to use for validation\n",
    "val_prop = 10000\n",
    "batch_size = 1024\n",
    "epochs = 5\n",
    "# defines after how many batches loss and accuracy are displayed\n",
    "print_every = 20\n",
    "# choose loss function\n",
    "criterion = torch.nn.BCELoss()\n",
    "# choose optimizer (Adam does fine most of the time)\n",
    "optimizer = torch.optim.Adam(net.parameters())"
   ]
  },
  {
   "cell_type": "code",
   "execution_count": 8,
   "metadata": {
    "scrolled": true
   },
   "outputs": [
    {
     "name": "stderr",
     "output_type": "stream",
     "text": [
      "/home/jonas/.local/lib/python3.6/site-packages/torch/nn/functional.py:1006: UserWarning: nn.functional.sigmoid is deprecated. Use torch.sigmoid instead.\n",
      "  warnings.warn(\"nn.functional.sigmoid is deprecated. Use torch.sigmoid instead.\")\n",
      "/home/jonas/.local/lib/python3.6/site-packages/ipykernel_launcher.py:34: UserWarning: invalid index of a 0-dim tensor. This will be an error in PyTorch 0.5. Use tensor.item() to convert a 0-dim tensor to a Python number\n"
     ]
    },
    {
     "name": "stdout",
     "output_type": "stream",
     "text": [
      "Epoch 1 / 5\t Loss 0.6933\t Validation accuracy 0.5257\t 0.1776 s/batch\n",
      "Epoch 1 / 5\t Loss 0.6654\t Validation accuracy 0.6573\t 0.1790 s/batch\n",
      "Epoch 1 / 5\t Loss 0.6458\t Validation accuracy 0.6909\t 0.1669 s/batch\n",
      "Epoch 1 / 5\t Loss 0.6369\t Validation accuracy 0.7028\t 0.1629 s/batch\n",
      "Epoch 1 / 5\t Loss 0.6296\t Validation accuracy 0.7422\t 0.1818 s/batch\n",
      "Epoch 1 / 5\t Loss 0.6236\t Validation accuracy 0.7590\t 0.1749 s/batch\n",
      "Epoch 1 / 5\t Loss 0.6178\t Validation accuracy 0.7695\t 0.1830 s/batch\n",
      "Epoch 1 / 5\t Loss 0.6094\t Validation accuracy 0.7804\t 0.1796 s/batch\n",
      "Epoch 1 / 5\t Loss 0.6103\t Validation accuracy 0.7891\t 0.1670 s/batch\n",
      "Epoch 2 / 5\t Loss 0.6073\t Validation accuracy 0.7898\t 0.1623 s/batch\n",
      "Epoch 2 / 5\t Loss 0.6048\t Validation accuracy 0.7873\t 0.1663 s/batch\n",
      "Epoch 2 / 5\t Loss 0.6001\t Validation accuracy 0.7891\t 0.1678 s/batch\n",
      "Epoch 2 / 5\t Loss 0.5971\t Validation accuracy 0.7890\t 0.1760 s/batch\n",
      "Epoch 2 / 5\t Loss 0.5985\t Validation accuracy 0.7983\t 0.1685 s/batch\n",
      "Epoch 2 / 5\t Loss 0.6002\t Validation accuracy 0.7979\t 0.1676 s/batch\n",
      "Epoch 2 / 5\t Loss 0.5971\t Validation accuracy 0.7971\t 0.1705 s/batch\n",
      "Epoch 2 / 5\t Loss 0.5957\t Validation accuracy 0.8052\t 0.1775 s/batch\n",
      "Epoch 2 / 5\t Loss 0.5933\t Validation accuracy 0.8013\t 0.1788 s/batch\n",
      "Epoch 3 / 5\t Loss 0.5972\t Validation accuracy 0.8044\t 0.1783 s/batch\n",
      "Epoch 3 / 5\t Loss 0.5946\t Validation accuracy 0.7997\t 0.1816 s/batch\n",
      "Epoch 3 / 5\t Loss 0.5914\t Validation accuracy 0.8066\t 0.2084 s/batch\n",
      "Epoch 3 / 5\t Loss 0.5892\t Validation accuracy 0.8134\t 0.1757 s/batch\n",
      "Epoch 3 / 5\t Loss 0.5926\t Validation accuracy 0.8108\t 0.1868 s/batch\n",
      "Epoch 3 / 5\t Loss 0.5937\t Validation accuracy 0.8069\t 0.1733 s/batch\n",
      "Epoch 3 / 5\t Loss 0.5910\t Validation accuracy 0.8106\t 0.1763 s/batch\n",
      "Epoch 3 / 5\t Loss 0.5918\t Validation accuracy 0.8117\t 0.1950 s/batch\n",
      "Epoch 3 / 5\t Loss 0.5872\t Validation accuracy 0.8056\t 0.1996 s/batch\n",
      "Epoch 4 / 5\t Loss 0.5920\t Validation accuracy 0.8043\t 0.1948 s/batch\n",
      "Epoch 4 / 5\t Loss 0.5908\t Validation accuracy 0.8106\t 0.2529 s/batch\n",
      "Epoch 4 / 5\t Loss 0.5884\t Validation accuracy 0.8150\t 0.2091 s/batch\n",
      "Epoch 4 / 5\t Loss 0.5866\t Validation accuracy 0.8160\t 0.1983 s/batch\n",
      "Epoch 4 / 5\t Loss 0.5870\t Validation accuracy 0.8105\t 0.1933 s/batch\n",
      "Epoch 4 / 5\t Loss 0.5897\t Validation accuracy 0.8068\t 0.2474 s/batch\n",
      "Epoch 4 / 5\t Loss 0.5873\t Validation accuracy 0.8147\t 0.2739 s/batch\n",
      "Epoch 4 / 5\t Loss 0.5900\t Validation accuracy 0.8155\t 0.2407 s/batch\n",
      "Epoch 4 / 5\t Loss 0.5836\t Validation accuracy 0.8122\t 0.1906 s/batch\n",
      "Epoch 4 / 5\t Loss 0.5887\t Validation accuracy 0.8160\t 0.1941 s/batch\n",
      "Epoch 5 / 5\t Loss 0.5889\t Validation accuracy 0.8168\t 0.1938 s/batch\n",
      "Epoch 5 / 5\t Loss 0.5856\t Validation accuracy 0.8160\t 0.1881 s/batch\n",
      "Epoch 5 / 5\t Loss 0.5850\t Validation accuracy 0.8132\t 0.1704 s/batch\n",
      "Epoch 5 / 5\t Loss 0.5841\t Validation accuracy 0.8101\t 0.1679 s/batch\n",
      "Epoch 5 / 5\t Loss 0.5839\t Validation accuracy 0.8167\t 0.1760 s/batch\n",
      "Epoch 5 / 5\t Loss 0.5874\t Validation accuracy 0.8175\t 0.1675 s/batch\n",
      "Epoch 5 / 5\t Loss 0.5863\t Validation accuracy 0.8085\t 0.1735 s/batch\n",
      "Epoch 5 / 5\t Loss 0.5840\t Validation accuracy 0.8175\t 0.1978 s/batch\n",
      "Epoch 5 / 5\t Loss 0.5836\t Validation accuracy 0.8156\t 0.2291 s/batch\n"
     ]
    }
   ],
   "source": [
    "# cut validation data from training data.\n",
    "# convert numpy arrays to torch tensors\n",
    "x_val_torch = torch.from_numpy(x_train[0:val_prop, :])\n",
    "y_val_torch = torch.from_numpy(y_train[0:val_prop]).float()\n",
    "x_train_torch = torch.from_numpy(x_train[val_prop + 1:, :])\n",
    "y_train_torch = torch.from_numpy(y_train[val_prop + 1:]).float()\n",
    "\n",
    "# create batch loaders\n",
    "train_set = utils.TensorDataset(x_train_torch, y_train_torch)\n",
    "train_loader = utils.DataLoader(train_set, batch_size, shuffle=False)\n",
    "val_set = utils.TensorDataset(x_val_torch, y_val_torch)\n",
    "val_loader = utils.DataLoader(val_set, batch_size, shuffle=False)\n",
    "\n",
    "# Run training\n",
    "steps = 0\n",
    "running_loss = 0\n",
    "start = time.time()\n",
    "\n",
    "for e in range(epochs):\n",
    "    for tweets, labels in iter(train_loader):\n",
    "        steps += 1\n",
    "        # converting to Variable is necessary in order to compute the gradient later\n",
    "        inputs = Variable(tweets)\n",
    "        targets = Variable(labels)\n",
    "        # set gradient to zero\n",
    "        optimizer.zero_grad()\n",
    "        # forward inputs through the net\n",
    "        outputs = net.forward(inputs.long())\n",
    "        # compute loss and gradient\n",
    "        loss = criterion(outputs, targets)\n",
    "        loss.backward()\n",
    "        # update weights\n",
    "        optimizer.step()\n",
    "        running_loss += loss.data[0]\n",
    "        \n",
    "        if steps % print_every == 0:\n",
    "            stop = time.time()\n",
    "            accuracy = 0\n",
    "            n = 0\n",
    "            # compute accuracy on validation set\n",
    "            for tweets, labels in iter(val_loader):\n",
    "                predictions = net.predict(tweets.long())\n",
    "                accuracy += sum(predictions.data.numpy() == labels.data.numpy())\n",
    "                n += labels.data.numpy().size\n",
    "            \n",
    "            print(\"Epoch {} / {}\\t\".format(e+1, epochs),\n",
    "                  \"Loss {:.4f}\\t\".format(running_loss / print_every),\n",
    "                  \"Validation accuracy {:.4f}\\t\".format(accuracy / n),\n",
    "                  \"{:.4f} s/batch\".format((stop - start)/print_every))\n",
    "            running_loss = 0\n",
    "            start = time.time()"
   ]
  },
  {
   "cell_type": "code",
   "execution_count": 11,
   "metadata": {},
   "outputs": [],
   "source": [
    "# Save the trained network\n",
    "torch.save(net, 'firstnet.pt')"
   ]
  },
  {
   "cell_type": "markdown",
   "metadata": {},
   "source": [
    "### IV) Evaluate model"
   ]
  },
  {
   "cell_type": "code",
   "execution_count": 12,
   "metadata": {},
   "outputs": [],
   "source": [
    "# Load a saved network\n",
    "net = torch.load('firstnet.pt')"
   ]
  },
  {
   "cell_type": "markdown",
   "metadata": {},
   "source": [
    "#### Test on local validation set"
   ]
  },
  {
   "cell_type": "code",
   "execution_count": 14,
   "metadata": {},
   "outputs": [
    {
     "name": "stdout",
     "output_type": "stream",
     "text": [
      "Accuracy on validation set: 0.8158\n"
     ]
    }
   ],
   "source": [
    "# compute accuracy based on a part of the training data\n",
    "for tweets, labels in iter(val_loader):\n",
    "    predictions = net.predict(tweets.long())\n",
    "    accuracy += sum(predictions.data.numpy() == labels.data.numpy())\n",
    "    n += labels.data.numpy().size\n",
    "            \n",
    "print(\"Accuracy on validation set: {:.4f}\".format(accuracy / n))"
   ]
  },
  {
   "cell_type": "markdown",
   "metadata": {},
   "source": [
    "#### Create submission file for challenge"
   ]
  },
  {
   "cell_type": "code",
   "execution_count": 15,
   "metadata": {},
   "outputs": [],
   "source": [
    "submission_file = 'cnn1_reduced_32.csv'\n",
    "\n",
    "# Compute preditions and transform the labels to (-1, 1)\n",
    "test_loader = utils.DataLoader(torch.from_numpy(x_test), batch_size, shuffle = False)\n",
    "submission_labels = np.zeros((0))\n",
    "for tweets in iter(test_loader):\n",
    "    predictions = net.predict(tweets.long())\n",
    "    labels = predictions.data.numpy() * 2 - 1\n",
    "    submission_labels = np.concatenate((submission_labels, labels), axis=0)\n",
    "    \n",
    "# save predicitons on the test set to csv file.\n",
    "ids = np.arange(len(submission_labels)) + 1\n",
    "create_csv_submission(ids, submission_labels, submission_file)"
   ]
  },
  {
   "cell_type": "code",
   "execution_count": null,
   "metadata": {},
   "outputs": [],
   "source": []
  }
 ],
 "metadata": {
  "kernelspec": {
   "display_name": "Python 3",
   "language": "python",
   "name": "python3"
  },
  "language_info": {
   "codemirror_mode": {
    "name": "ipython",
    "version": 3
   },
   "file_extension": ".py",
   "mimetype": "text/x-python",
   "name": "python",
   "nbconvert_exporter": "python",
   "pygments_lexer": "ipython3",
   "version": "3.6.6"
  }
 },
 "nbformat": 4,
 "nbformat_minor": 2
}

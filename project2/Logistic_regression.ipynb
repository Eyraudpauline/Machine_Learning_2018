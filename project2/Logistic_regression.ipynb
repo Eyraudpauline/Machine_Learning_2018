{
 "cells": [
  {
   "cell_type": "markdown",
   "metadata": {},
   "source": [
    "# Logistic regression (using GloVe)\n",
    "The idea behind this approach is to average the word vectors over every tweet, and use this average vectors to train logistic regression.\n",
    "\n",
    "Before running this notebook, make sure to have saved a embedding matrix named \"embeddings.npy\" beforehand. To do this, follow the instructions in Readme.md"
   ]
  },
  {
   "cell_type": "markdown",
   "metadata": {},
   "source": [
    "## I) Imports"
   ]
  },
  {
   "cell_type": "code",
   "execution_count": 1,
   "metadata": {},
   "outputs": [],
   "source": [
    "import numpy as np\n",
    "import pickle\n",
    "\n",
    "from logreg import *\n",
    "from helpers import *\n",
    "\n",
    "%load_ext autoreload\n",
    "%autoreload 2"
   ]
  },
  {
   "cell_type": "markdown",
   "metadata": {},
   "source": [
    "## II) Prepare features"
   ]
  },
  {
   "cell_type": "markdown",
   "metadata": {},
   "source": [
    "### Load our GloVe word embeddings from file ..."
   ]
  },
  {
   "cell_type": "code",
   "execution_count": 2,
   "metadata": {},
   "outputs": [],
   "source": [
    "# load word embeddings\n",
    "embeddings = np.load('our_glove/embeddings200_wstp_reduced.npy')\n",
    "# load vocabulary\n",
    "with open('our_glove/vocab_wstp_reduced.pkl', 'rb') as f:\n",
    "    vocab = pickle.load(f)"
   ]
  },
  {
   "cell_type": "markdown",
   "metadata": {},
   "source": [
    "### Average word vectors over tweets"
   ]
  },
  {
   "cell_type": "code",
   "execution_count": 3,
   "metadata": {},
   "outputs": [
    {
     "name": "stdout",
     "output_type": "stream",
     "text": [
      "100000  tweets processed\n"
     ]
    }
   ],
   "source": [
    "# Average vectors for training tweets\n",
    "\n",
    "'''\n",
    "Appending a row for each tweet is impracticable slow. \n",
    "However, we can not know in advance the number of tweets we will\n",
    "be appended (this is because we skip tweets fr which we have no embeddings).\n",
    "therefore we allocate a too big array fr x_train and cut wht's too much\n",
    "in the end.\n",
    "'''\n",
    "allocate_columns = 3000000\n",
    "x_train = np.zeros((allocate_columns, embeddings.shape[1]))\n",
    "y_train = np.zeros(allocate_columns)\n",
    "counter = 0\n",
    "\n",
    "with open('pos_train.txt') as f:\n",
    "    for line in f:\n",
    "        total = np.zeros((1, embeddings.shape[1]))\n",
    "        wordcount = 0\n",
    "        for word in line.strip().split():\n",
    "            index = vocab.get(word, -1);\n",
    "            # skip words for which we have no embedding\n",
    "            if(index != -1):\n",
    "                total += embeddings[index, :]\n",
    "                wordcount += 1\n",
    "        if(wordcount > 0):\n",
    "            mean = total / wordcount\n",
    "            x_train[counter, :] = mean\n",
    "            y_train[counter] = 1\n",
    "            counter += 1\n",
    "        if counter % 100000 == 0:\n",
    "            print(str(counter), \" tweets processed\")\n",
    "            \n",
    "with open('neg_train.txt') as f:\n",
    "    for line in f:\n",
    "        total = np.zeros((1, embeddings.shape[1]))\n",
    "        wordcount = 0\n",
    "        for word in line.strip().split():\n",
    "            index = vocab.get(word, -1);\n",
    "            # skip words for which we have no embedding\n",
    "            if(index != -1):\n",
    "                total += embeddings[index, :]\n",
    "                wordcount += 1\n",
    "        if(wordcount > 0):\n",
    "            mean = total / wordcount\n",
    "            x_train[counter, :] = mean\n",
    "            y_train[counter] = -1\n",
    "            counter += 1\n",
    "        if counter % 100000 == 0:\n",
    "            print(str(counter), \" tweets processed\")\n",
    "            \n",
    "# cut zero rows in x_train and y_train\n",
    "y_train = y_train[np.nonzero(y_train)]\n",
    "x_train = x_train[np.nonzero(y_train)]\n",
    "                               \n",
    "# Shuffle tweets\n",
    "x_train, y_train = shuffle(x_train, y_train)"
   ]
  },
  {
   "cell_type": "code",
   "execution_count": 4,
   "metadata": {},
   "outputs": [
    {
     "name": "stdout",
     "output_type": "stream",
     "text": [
      "5000  tweets processed\n",
      "10000  tweets processed\n"
     ]
    }
   ],
   "source": [
    "# Average words for testing data\n",
    "\n",
    "allocate_columns = 100000\n",
    "x_submission = np.zeros((allocate_columns, embeddings.shape[1]))\n",
    "embeddings_mean = np.expand_dims(np.mean(embeddings, axis=0), axis=0)\n",
    "counter = 0\n",
    "\n",
    "with open('test_data.txt') as f:\n",
    "    for line in f:\n",
    "        total = np.zeros((1, embeddings.shape[1]))\n",
    "        wordcount = 0\n",
    "        # filter out the IDs and first comma\n",
    "        tweet = line[(line.index(\",\")+1):]\n",
    "        for word in tweet.strip().split():\n",
    "            index = vocab.get(word, -1);\n",
    "            # skip words for which we have no embedding\n",
    "            if(index != -1):\n",
    "                total += embeddings[index, :]\n",
    "                wordcount += 1\n",
    "        if(wordcount > 0):\n",
    "            mean = total / wordcount\n",
    "            x_submission[counter, :] = mean\n",
    "        else:\n",
    "            # in case that we have no embedding for any word of the tweet\n",
    "            # just use the overall mean of the embeddings\n",
    "            x_submission[counter, :] = embeddings_mean\n",
    "        counter += 1\n",
    "        if counter % 5000 == 0:\n",
    "            print(str(counter), \" tweets processed\")\n",
    "            \n",
    "# cut zero rows in x_submission\n",
    "x_submission = x_submission[np.nonzero(x_submission[:, 1])]"
   ]
  },
  {
   "cell_type": "markdown",
   "metadata": {},
   "source": [
    "## III) Train the model"
   ]
  },
  {
   "cell_type": "code",
   "execution_count": 5,
   "metadata": {
    "scrolled": false
   },
   "outputs": [
    {
     "name": "stdout",
     "output_type": "stream",
     "text": [
      "epoch\t 1 \tloss:  101.60808320306838\n",
      "epoch\t 1 \tloss:  89.46890000634279\n",
      "epoch\t 1 \tloss:  88.74502279751542\n",
      "epoch\t 2 \tloss:  86.74261658818506\n",
      "epoch\t 2 \tloss:  85.5287878404817\n",
      "epoch\t 2 \tloss:  84.99114056905529\n",
      "epoch\t 3 \tloss:  82.78421032737292\n",
      "epoch\t 3 \tloss:  81.97269585076036\n",
      "epoch\t 3 \tloss:  81.64709160306684\n",
      "epoch\t 4 \tloss:  79.83286769897857\n",
      "epoch\t 4 \tloss:  78.94698801479404\n",
      "epoch\t 4 \tloss:  78.00850796274956\n",
      "epoch\t 5 \tloss:  77.02217473100167\n",
      "epoch\t 5 \tloss:  76.55057951240451\n",
      "epoch\t 5 \tloss:  75.84759444049834\n",
      "epoch\t 6 \tloss:  75.06225093420917\n",
      "epoch\t 6 \tloss:  74.50552295716363\n",
      "epoch\t 6 \tloss:  73.80550422548086\n",
      "epoch\t 7 \tloss:  73.2934325432172\n",
      "epoch\t 7 \tloss:  72.58927737773942\n",
      "epoch\t 7 \tloss:  72.31241187128458\n",
      "epoch\t 8 \tloss:  71.54655374564737\n",
      "epoch\t 8 \tloss:  71.0374342913379\n",
      "epoch\t 8 \tloss:  71.11263219301361\n",
      "epoch\t 9 \tloss:  70.48907710937294\n",
      "epoch\t 9 \tloss:  70.00935653397616\n",
      "epoch\t 9 \tloss:  70.00763184026945\n",
      "epoch\t 10 \tloss:  69.5531047834208\n",
      "epoch\t 10 \tloss:  69.12653918790723\n",
      "epoch\t 10 \tloss:  68.8034998193649\n",
      "epoch\t 11 \tloss:  68.66160390513616\n",
      "epoch\t 11 \tloss:  68.33291849250159\n",
      "epoch\t 11 \tloss:  68.51654338996963\n",
      "epoch\t 12 \tloss:  67.89106856653184\n",
      "epoch\t 12 \tloss:  67.90043997528672\n",
      "epoch\t 12 \tloss:  67.68526847318644\n",
      "epoch\t 13 \tloss:  67.68119091977373\n",
      "epoch\t 13 \tloss:  67.33177075722534\n",
      "epoch\t 13 \tloss:  67.0900611453344\n",
      "epoch\t 14 \tloss:  67.21339732885794\n",
      "epoch\t 14 \tloss:  67.0399810112935\n",
      "epoch\t 14 \tloss:  66.73917583250314\n",
      "epoch\t 15 \tloss:  66.6122651757279\n",
      "epoch\t 15 \tloss:  66.83573113152289\n",
      "epoch\t 15 \tloss:  66.64772743612575\n",
      "epoch\t 16 \tloss:  66.59643897352818\n",
      "epoch\t 16 \tloss:  66.49568202049751\n",
      "epoch\t 16 \tloss:  66.11247588090484\n",
      "epoch\t 17 \tloss:  66.37642188209418\n",
      "epoch\t 17 \tloss:  66.22852359796484\n",
      "epoch\t 17 \tloss:  66.0283904693509\n",
      "epoch\t 18 \tloss:  66.2030616309682\n",
      "epoch\t 18 \tloss:  65.98299228038466\n",
      "epoch\t 18 \tloss:  66.0364411932212\n",
      "epoch\t 19 \tloss:  66.01812111205187\n",
      "epoch\t 19 \tloss:  65.86374282260337\n",
      "epoch\t 19 \tloss:  65.98312075566696\n",
      "epoch\t 20 \tloss:  65.73550080691457\n",
      "epoch\t 20 \tloss:  65.98045497225291\n",
      "epoch\t 20 \tloss:  65.72170365009254\n",
      "epoch\t 21 \tloss:  65.75222696485018\n",
      "epoch\t 21 \tloss:  65.79907985887034\n",
      "epoch\t 21 \tloss:  65.67008467753328\n",
      "epoch\t 22 \tloss:  65.80590875494609\n",
      "epoch\t 22 \tloss:  65.74521934740852\n",
      "epoch\t 22 \tloss:  65.5838507624284\n",
      "epoch\t 23 \tloss:  65.7070528007634\n",
      "epoch\t 23 \tloss:  65.70091509147761\n",
      "epoch\t 23 \tloss:  65.43913877568346\n",
      "epoch\t 24 \tloss:  65.58259430964992\n",
      "epoch\t 24 \tloss:  65.53892623230914\n",
      "epoch\t 24 \tloss:  65.52642150122045\n",
      "epoch\t 25 \tloss:  65.4415555537231\n",
      "epoch\t 25 \tloss:  65.53930777013589\n",
      "epoch\t 25 \tloss:  65.58945915616384\n",
      "epoch\t 26 \tloss:  65.68923932598288\n",
      "epoch\t 26 \tloss:  65.38322926993142\n",
      "epoch\t 26 \tloss:  65.51780611069853\n",
      "epoch\t 27 \tloss:  65.58424186065781\n",
      "epoch\t 27 \tloss:  65.50848261045033\n",
      "epoch\t 27 \tloss:  65.39174987663807\n",
      "epoch\t 28 \tloss:  65.31879491771217\n",
      "epoch\t 28 \tloss:  65.61260947201993\n",
      "epoch\t 28 \tloss:  65.4187925457518\n",
      "epoch\t 29 \tloss:  65.443009065262\n",
      "epoch\t 29 \tloss:  65.4186237896436\n",
      "epoch\t 29 \tloss:  65.45779221274387\n",
      "epoch\t 30 \tloss:  65.38593312686066\n",
      "epoch\t 30 \tloss:  65.58027019705659\n",
      "epoch\t 30 \tloss:  65.32795636085112\n",
      "epoch\t 31 \tloss:  65.34149603859589\n",
      "epoch\t 31 \tloss:  65.49687499363286\n",
      "epoch\t 31 \tloss:  65.44009587750612\n",
      "epoch\t 32 \tloss:  65.34337664500633\n",
      "epoch\t 32 \tloss:  65.56284128497667\n",
      "epoch\t 32 \tloss:  65.40847858381375\n",
      "epoch\t 33 \tloss:  65.3959079738595\n",
      "epoch\t 33 \tloss:  65.33957310942235\n",
      "epoch\t 33 \tloss:  65.50993220147711\n",
      "epoch\t 34 \tloss:  65.40186293117875\n",
      "epoch\t 34 \tloss:  65.43372058205873\n",
      "epoch\t 34 \tloss:  65.34293904786858\n",
      "epoch\t 35 \tloss:  65.21670168703679\n",
      "epoch\t 35 \tloss:  65.45539354877307\n",
      "epoch\t 35 \tloss:  65.43392524441694\n",
      "epoch\t 36 \tloss:  65.24949016957096\n",
      "epoch\t 36 \tloss:  65.51792750275337\n",
      "epoch\t 36 \tloss:  65.41840446189694\n",
      "epoch\t 37 \tloss:  65.38485362143885\n",
      "epoch\t 37 \tloss:  65.2853010594054\n",
      "epoch\t 37 \tloss:  65.5700876768905\n",
      "epoch\t 38 \tloss:  65.36119176534406\n",
      "epoch\t 38 \tloss:  65.40625121714828\n",
      "epoch\t 38 \tloss:  65.41746248003905\n",
      "epoch\t 39 \tloss:  65.26723268216801\n",
      "epoch\t 39 \tloss:  65.28096608396636\n",
      "epoch\t 39 \tloss:  65.58593771945262\n",
      "epoch\t 40 \tloss:  65.38862503027266\n",
      "epoch\t 40 \tloss:  65.28144999969622\n",
      "epoch\t 40 \tloss:  65.52363140811757\n"
     ]
    }
   ],
   "source": [
    "# set aside a small portion for validation\n",
    "testset = 10000\n",
    "\n",
    "x_test = x_train[0:testset, :]\n",
    "y_test = y_train[0:testset]\n",
    "x_train_log = x_train[testset + 1:, :]\n",
    "y_train_log = y_train[testset + 1:]\n",
    "\n",
    "# standardize\n",
    "#x_train_log, mean, std = standardize(x_train_log)\n",
    "\n",
    "# add offset\n",
    "x_train_log = add_offset(x_train_log)\n",
    "\n",
    "# train using logistic regression (SGD)\n",
    "initial_w = np.random.rand(x_train_log.shape[1])\n",
    "epochs = 40\n",
    "batch_size = 100\n",
    "gamma = 0.0001\n",
    "lambda_ = 0.01\n",
    "print_every = int(50000 / batch_size)\n",
    "\n",
    "weights, loss = reg_logistic_regression(y_train_log, x_train_log, initial_w, epochs, batch_size, gamma, lambda_, print_every)\n",
    "\n",
    "# free up memory\n",
    "del x_train_log\n",
    "del y_train_log"
   ]
  },
  {
   "cell_type": "markdown",
   "metadata": {},
   "source": [
    "## IV) Test predictions"
   ]
  },
  {
   "cell_type": "markdown",
   "metadata": {},
   "source": [
    "### Tests on a local validation set"
   ]
  },
  {
   "cell_type": "code",
   "execution_count": 6,
   "metadata": {},
   "outputs": [
    {
     "name": "stdout",
     "output_type": "stream",
     "text": [
      "0.6007\n"
     ]
    }
   ],
   "source": [
    "# standardize\n",
    "#x_test_log = standardize_test(x_test, mean, std)\n",
    "\n",
    "# add offset\n",
    "x_test_log = add_offset(x_test)\n",
    "\n",
    "y_pred = predict_logistic_labels(weights, x_test_log)\n",
    "accuracy = get_accuracy(y_test, y_pred)\n",
    "print(accuracy)"
   ]
  },
  {
   "cell_type": "markdown",
   "metadata": {},
   "source": [
    "### Predict labels for the test dataset, prepare submission csv file"
   ]
  },
  {
   "cell_type": "code",
   "execution_count": 7,
   "metadata": {},
   "outputs": [],
   "source": [
    "filename = 'logreg_preprocessed_own_reduced.csv'\n",
    "\n",
    "# standardize\n",
    "#x_submission_log = standardize_test(x_submission_log, mean, std)\n",
    "\n",
    "# add offset\n",
    "x_submission_log = add_offset(x_submission)\n",
    "\n",
    "y_submission = predict_logistic_labels(weights, x_submission_log)\n",
    "ids = np.arange(len(y_submission)) + 1\n",
    "\n",
    "create_csv_submission(ids, y_submission, filename)"
   ]
  },
  {
   "cell_type": "code",
   "execution_count": null,
   "metadata": {},
   "outputs": [],
   "source": []
  }
 ],
 "metadata": {
  "kernelspec": {
   "display_name": "Python 3",
   "language": "python",
   "name": "python3"
  },
  "language_info": {
   "codemirror_mode": {
    "name": "ipython",
    "version": 3
   },
   "file_extension": ".py",
   "mimetype": "text/x-python",
   "name": "python",
   "nbconvert_exporter": "python",
   "pygments_lexer": "ipython3",
   "version": "3.6.6"
  }
 },
 "nbformat": 4,
 "nbformat_minor": 2
}

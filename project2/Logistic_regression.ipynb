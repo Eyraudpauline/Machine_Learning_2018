{
 "cells": [
  {
   "cell_type": "markdown",
   "metadata": {},
   "source": [
    "# Logistic regression (using GloVe)\n",
    "The idea behind this approach is to average the word vectors over every tweet, and use this average vectors to train logistic regression.\n",
    "\n",
    "Before running this notebook, make sure to have saved a embedding matrix named \"embeddings.npy\" beforehand. To do this, follow the instructions in Readme.md"
   ]
  },
  {
   "cell_type": "markdown",
   "metadata": {},
   "source": [
    "## I) Imports"
   ]
  },
  {
   "cell_type": "code",
   "execution_count": 1,
   "metadata": {},
   "outputs": [],
   "source": [
    "import numpy as np\n",
    "import pickle\n",
    "\n",
    "from logreg import *\n",
    "from helpers import *\n",
    "\n",
    "%load_ext autoreload\n",
    "%autoreload 2"
   ]
  },
  {
   "cell_type": "markdown",
   "metadata": {},
   "source": [
    "## II) Prepare features"
   ]
  },
  {
   "cell_type": "markdown",
   "metadata": {},
   "source": [
    "### Load our GloVe word embeddings from file ..."
   ]
  },
  {
   "cell_type": "code",
   "execution_count": 2,
   "metadata": {},
   "outputs": [],
   "source": [
    "# load word embeddings\n",
    "embeddings = np.load('our_glove/embeddings200_reduced.npy')\n",
    "# load vocabulary\n",
    "with open('our_glove/vocab_reduced.pkl', 'rb') as f:\n",
    "    vocab = pickle.load(f)"
   ]
  },
  {
   "cell_type": "markdown",
   "metadata": {},
   "source": [
    "### Average word vectors over tweets"
   ]
  },
  {
   "cell_type": "code",
   "execution_count": 3,
   "metadata": {},
   "outputs": [
    {
     "name": "stdout",
     "output_type": "stream",
     "text": [
      "100000  tweets processed\n"
     ]
    }
   ],
   "source": [
    "# Average vectors for training tweets\n",
    "\n",
    "'''\n",
    "Appending a row for each tweet is impracticable slow. \n",
    "However, we can not know in advance the number of tweets we will\n",
    "be appended (this is because we skip tweets fr which we have no embeddings).\n",
    "therefore we allocate a too big array fr x_train and cut wht's too much\n",
    "in the end.\n",
    "'''\n",
    "allocate_columns = 3000000\n",
    "x_train = np.zeros((allocate_columns, embeddings.shape[1]))\n",
    "y_train = np.zeros(allocate_columns)\n",
    "counter = 0\n",
    "\n",
    "with open('train_pos_preprocessed.txt') as f:\n",
    "    for line in f:\n",
    "        total = np.zeros((1, embeddings.shape[1]))\n",
    "        wordcount = 0\n",
    "        for word in line.strip().split():\n",
    "            index = vocab.get(word, -1);\n",
    "            # skip words for which we have no embedding\n",
    "            if(index != -1):\n",
    "                total += embeddings[index, :]\n",
    "                wordcount += 1\n",
    "        if(wordcount > 0):\n",
    "            mean = total / wordcount\n",
    "            x_train[counter, :] = mean\n",
    "            y_train[counter] = 1\n",
    "            counter += 1\n",
    "        if counter % 100000 == 0:\n",
    "            print(str(counter), \" tweets processed\")\n",
    "            \n",
    "with open('train_neg_preprocessed.txt') as f:\n",
    "    for line in f:\n",
    "        total = np.zeros((1, embeddings.shape[1]))\n",
    "        wordcount = 0\n",
    "        for word in line.strip().split():\n",
    "            index = vocab.get(word, -1);\n",
    "            # skip words for which we have no embedding\n",
    "            if(index != -1):\n",
    "                total += embeddings[index, :]\n",
    "                wordcount += 1\n",
    "        if(wordcount > 0):\n",
    "            mean = total / wordcount\n",
    "            x_train[counter, :] = mean\n",
    "            y_train[counter] = -1\n",
    "            counter += 1\n",
    "        if counter % 100000 == 0:\n",
    "            print(str(counter), \" tweets processed\")\n",
    "            \n",
    "# cut zero rows in x_train and y_train\n",
    "y_train = y_train[np.nonzero(y_train)]\n",
    "x_train = x_train[np.nonzero(y_train)]\n",
    "                               \n",
    "# Shuffle tweets\n",
    "x_train, y_train = shuffle(x_train, y_train)"
   ]
  },
  {
   "cell_type": "code",
   "execution_count": 4,
   "metadata": {},
   "outputs": [],
   "source": [
    "# [Optional] save variables\n",
    "np.save('x_train', x_train)\n",
    "np.save('y_train', y_train)"
   ]
  },
  {
   "cell_type": "code",
   "execution_count": 5,
   "metadata": {},
   "outputs": [],
   "source": [
    "# [Optional] load variables to save time\n",
    "x_train = np.load('x_train.npy')\n",
    "y_train = np.load('y_train.npy')"
   ]
  },
  {
   "cell_type": "code",
   "execution_count": 6,
   "metadata": {},
   "outputs": [
    {
     "name": "stdout",
     "output_type": "stream",
     "text": [
      "5000  tweets processed\n",
      "10000  tweets processed\n"
     ]
    }
   ],
   "source": [
    "# Average words for testing data\n",
    "\n",
    "allocate_columns = 300000\n",
    "x_submission = np.zeros((allocate_columns, embeddings.shape[1]))\n",
    "embeddings_mean = np.expand_dims(np.mean(embeddings, axis=0), axis=0)\n",
    "counter = 0\n",
    "\n",
    "with open('test_data_preprocessed.txt') as f:\n",
    "    for line in f:\n",
    "        total = np.zeros((1, embeddings.shape[1]))\n",
    "        wordcount = 0\n",
    "        # TODO: filter out the IDs\n",
    "        for word in line.strip().split():\n",
    "            index = vocab.get(word, -1);\n",
    "            # skip words for which we have no embedding\n",
    "            if(index != -1):\n",
    "                total += embeddings[index, :]\n",
    "                wordcount += 1\n",
    "        if(wordcount > 0):\n",
    "            mean = total / wordcount\n",
    "            x_submission[counter, :] = mean\n",
    "        else:\n",
    "            # in case that we have no embedding for any word of the tweet\n",
    "            # just use the overall mean of the embeddings\n",
    "            x_submission[counter, :] = embeddings_mean\n",
    "        counter += 1\n",
    "        if counter % 5000 == 0:\n",
    "            print(str(counter), \" tweets processed\")\n",
    "            \n",
    "# cut zero rows in x_submission\n",
    "x_submission = x_submission[np.nonzero(x_submission[:, 1])]"
   ]
  },
  {
   "cell_type": "code",
   "execution_count": 7,
   "metadata": {},
   "outputs": [],
   "source": [
    "# [Optional] save variables\n",
    "np.save('x_submission', x_submission)"
   ]
  },
  {
   "cell_type": "code",
   "execution_count": 8,
   "metadata": {},
   "outputs": [],
   "source": [
    "# [Optional] load variables to save time\n",
    "x_submission = np.load('x_submission.npy')"
   ]
  },
  {
   "cell_type": "markdown",
   "metadata": {},
   "source": [
    "## III) Train the model"
   ]
  },
  {
   "cell_type": "code",
   "execution_count": 9,
   "metadata": {
    "scrolled": false
   },
   "outputs": [
    {
     "name": "stdout",
     "output_type": "stream",
     "text": [
      "epoch\t 1 \tloss:  80.41898758565523\n",
      "epoch\t 1 \tloss:  72.63990867432156\n",
      "epoch\t 1 \tloss:  72.27247042275462\n",
      "epoch\t 2 \tloss:  71.36846290841906\n",
      "epoch\t 2 \tloss:  70.9661952624341\n",
      "epoch\t 2 \tloss:  70.56315594898248\n",
      "epoch\t 3 \tloss:  70.12605256449098\n",
      "epoch\t 3 \tloss:  69.6703350456351\n",
      "epoch\t 3 \tloss:  69.63211465423336\n",
      "epoch\t 4 \tloss:  69.31261762711519\n",
      "epoch\t 4 \tloss:  69.08028647668529\n",
      "epoch\t 4 \tloss:  68.99231228631497\n",
      "epoch\t 5 \tloss:  68.82432824619028\n",
      "epoch\t 5 \tloss:  68.72600853653859\n",
      "epoch\t 5 \tloss:  68.63533220042841\n",
      "epoch\t 6 \tloss:  68.48845100318616\n",
      "epoch\t 6 \tloss:  68.6223296969754\n",
      "epoch\t 6 \tloss:  68.3797046782826\n",
      "epoch\t 7 \tloss:  68.36875349583184\n",
      "epoch\t 7 \tloss:  68.43275071749726\n",
      "epoch\t 7 \tloss:  68.34038315851258\n",
      "epoch\t 8 \tloss:  68.28139345077676\n",
      "epoch\t 8 \tloss:  68.31877622957936\n",
      "epoch\t 8 \tloss:  68.2911010593855\n",
      "epoch\t 9 \tloss:  68.20385412113002\n",
      "epoch\t 9 \tloss:  68.29297923386456\n",
      "epoch\t 9 \tloss:  68.1807471177709\n",
      "epoch\t 10 \tloss:  68.21568128259491\n",
      "epoch\t 10 \tloss:  68.21918128948933\n",
      "epoch\t 10 \tloss:  68.24327442396574\n",
      "epoch\t 11 \tloss:  68.23751127051482\n",
      "epoch\t 11 \tloss:  68.16189244741668\n",
      "epoch\t 11 \tloss:  68.1983487821522\n",
      "epoch\t 12 \tloss:  68.15952697561742\n",
      "epoch\t 12 \tloss:  68.20030921085288\n",
      "epoch\t 12 \tloss:  68.22363725183929\n",
      "epoch\t 13 \tloss:  68.25122515774294\n",
      "epoch\t 13 \tloss:  68.22583751039522\n",
      "epoch\t 13 \tloss:  68.07140657641973\n",
      "epoch\t 14 \tloss:  68.137390902048\n",
      "epoch\t 14 \tloss:  68.1582744055859\n",
      "epoch\t 14 \tloss:  68.22744948836093\n",
      "epoch\t 15 \tloss:  68.16237514937316\n",
      "epoch\t 15 \tloss:  68.15168948868012\n",
      "epoch\t 15 \tloss:  68.11765218752386\n",
      "epoch\t 16 \tloss:  68.12336168813367\n",
      "epoch\t 16 \tloss:  68.17683856603573\n",
      "epoch\t 16 \tloss:  68.23398117965237\n",
      "epoch\t 17 \tloss:  68.15547058776582\n",
      "epoch\t 17 \tloss:  68.14625153142786\n",
      "epoch\t 17 \tloss:  68.21438835205915\n",
      "epoch\t 18 \tloss:  68.1538714253665\n",
      "epoch\t 18 \tloss:  68.09742617043044\n",
      "epoch\t 18 \tloss:  68.22913101353042\n",
      "epoch\t 19 \tloss:  68.09862305303128\n",
      "epoch\t 19 \tloss:  68.21515986422699\n",
      "epoch\t 19 \tloss:  68.24538163636637\n",
      "epoch\t 20 \tloss:  68.0909674321416\n",
      "epoch\t 20 \tloss:  68.22899856885005\n",
      "epoch\t 20 \tloss:  68.13192736111833\n",
      "epoch\t 21 \tloss:  68.25164487790256\n",
      "epoch\t 21 \tloss:  68.22185447697912\n",
      "epoch\t 21 \tloss:  68.07064997532375\n",
      "epoch\t 22 \tloss:  68.16037886825697\n",
      "epoch\t 22 \tloss:  68.34043400419313\n",
      "epoch\t 22 \tloss:  68.10176835914446\n",
      "epoch\t 23 \tloss:  68.09789688195782\n",
      "epoch\t 23 \tloss:  68.18623823631945\n",
      "epoch\t 23 \tloss:  68.2028874166614\n",
      "epoch\t 24 \tloss:  68.213828231813\n",
      "epoch\t 24 \tloss:  68.08084772209298\n",
      "epoch\t 24 \tloss:  68.18491689022444\n",
      "epoch\t 25 \tloss:  68.08582083044699\n",
      "epoch\t 25 \tloss:  68.23194544131522\n",
      "epoch\t 25 \tloss:  68.16049678788171\n",
      "epoch\t 26 \tloss:  68.09551863769421\n",
      "epoch\t 26 \tloss:  68.29612225148976\n",
      "epoch\t 26 \tloss:  68.127272569203\n",
      "epoch\t 27 \tloss:  68.1865122092055\n",
      "epoch\t 27 \tloss:  68.19099833415116\n",
      "epoch\t 27 \tloss:  68.13385638599885\n",
      "epoch\t 28 \tloss:  68.13417394054848\n",
      "epoch\t 28 \tloss:  68.19701966184567\n",
      "epoch\t 28 \tloss:  68.20002803189992\n",
      "epoch\t 29 \tloss:  68.05036323624199\n",
      "epoch\t 29 \tloss:  68.25996293155504\n",
      "epoch\t 29 \tloss:  68.16975353766196\n",
      "epoch\t 30 \tloss:  68.17455673632678\n",
      "epoch\t 30 \tloss:  68.13179672522347\n",
      "epoch\t 30 \tloss:  68.1898361193937\n",
      "epoch\t 31 \tloss:  68.15617898105744\n",
      "epoch\t 31 \tloss:  68.14491956370708\n",
      "epoch\t 31 \tloss:  68.20720860333138\n",
      "epoch\t 32 \tloss:  68.17165119062635\n",
      "epoch\t 32 \tloss:  68.1356617034465\n",
      "epoch\t 32 \tloss:  68.16488858283968\n",
      "epoch\t 33 \tloss:  68.16177381180134\n",
      "epoch\t 33 \tloss:  68.1927334728085\n",
      "epoch\t 33 \tloss:  68.15165368156268\n",
      "epoch\t 34 \tloss:  68.16768589840808\n",
      "epoch\t 34 \tloss:  68.08901337172468\n",
      "epoch\t 34 \tloss:  68.27737735949925\n",
      "epoch\t 35 \tloss:  68.27023843424813\n",
      "epoch\t 35 \tloss:  68.14553365457928\n",
      "epoch\t 35 \tloss:  68.14563778675475\n",
      "epoch\t 36 \tloss:  68.12502057579724\n",
      "epoch\t 36 \tloss:  68.08950029514436\n",
      "epoch\t 36 \tloss:  68.31263068935719\n",
      "epoch\t 37 \tloss:  68.1779097344521\n",
      "epoch\t 37 \tloss:  68.15160041922785\n",
      "epoch\t 37 \tloss:  68.20792151702935\n",
      "epoch\t 38 \tloss:  68.14879956888795\n",
      "epoch\t 38 \tloss:  68.20719593081635\n",
      "epoch\t 38 \tloss:  68.19852387721086\n",
      "epoch\t 39 \tloss:  68.24199414025239\n",
      "epoch\t 39 \tloss:  68.14994961512173\n",
      "epoch\t 39 \tloss:  68.09860111753656\n",
      "epoch\t 40 \tloss:  68.1391569340729\n",
      "epoch\t 40 \tloss:  68.11781756273581\n",
      "epoch\t 40 \tloss:  68.22275542895508\n"
     ]
    }
   ],
   "source": [
    "# set aside a small portion for validation\n",
    "testset = 1000\n",
    "\n",
    "x_test = x_train[0:testset, :]\n",
    "y_test = y_train[0:testset]\n",
    "x_train_log = x_train[testset + 1:, :]\n",
    "y_train_log = y_train[testset + 1:]\n",
    "\n",
    "# standardize\n",
    "#x_train_log, mean, std = standardize(x_train_log)\n",
    "\n",
    "# add offset\n",
    "x_train_log = add_offset(x_train_log)\n",
    "\n",
    "# train using logistic regression (SGD)\n",
    "initial_w = np.random.rand(x_train_log.shape[1])\n",
    "epochs = 40\n",
    "batch_size = 100\n",
    "gamma = 0.0001\n",
    "lambda_ = 0.01\n",
    "print_every = int(50000 / batch_size)\n",
    "\n",
    "weights, loss = reg_logistic_regression(y_train_log, x_train_log, initial_w, epochs, batch_size, gamma, lambda_, print_every)\n",
    "\n",
    "# free up memory\n",
    "del x_train_log\n",
    "del y_train_log"
   ]
  },
  {
   "cell_type": "markdown",
   "metadata": {},
   "source": [
    "## IV) Test predictions"
   ]
  },
  {
   "cell_type": "markdown",
   "metadata": {},
   "source": [
    "### Tests on a local validation set"
   ]
  },
  {
   "cell_type": "code",
   "execution_count": 10,
   "metadata": {},
   "outputs": [
    {
     "name": "stdout",
     "output_type": "stream",
     "text": [
      "0.593\n"
     ]
    }
   ],
   "source": [
    "# standardize\n",
    "#x_test_log = standardize_test(x_test, mean, std)\n",
    "\n",
    "# add offset\n",
    "x_test_log = add_offset(x_test)\n",
    "\n",
    "y_pred = predict_logistic_labels(weights, x_test_log)\n",
    "accuracy = get_accuracy(y_test, y_pred)\n",
    "print(accuracy)"
   ]
  },
  {
   "cell_type": "markdown",
   "metadata": {},
   "source": [
    "### Predict labels for the test dataset, prepare submission csv file"
   ]
  },
  {
   "cell_type": "code",
   "execution_count": 11,
   "metadata": {},
   "outputs": [],
   "source": [
    "filename = 'logreg_preprocessing12_reduced.csv'\n",
    "\n",
    "# standardize\n",
    "#x_submission_log = standardize_test(x_submission_log, mean, std)\n",
    "\n",
    "# add offset\n",
    "x_submission_log = add_offset(x_submission)\n",
    "\n",
    "y_submission = predict_logistic_labels(weights, x_submission_log)\n",
    "ids = np.arange(len(y_submission)) + 1\n",
    "\n",
    "create_csv_submission(ids, y_submission, filename)"
   ]
  },
  {
   "cell_type": "code",
   "execution_count": null,
   "metadata": {},
   "outputs": [],
   "source": []
  }
 ],
 "metadata": {
  "kernelspec": {
   "display_name": "Python 3",
   "language": "python",
   "name": "python3"
  },
  "language_info": {
   "codemirror_mode": {
    "name": "ipython",
    "version": 3
   },
   "file_extension": ".py",
   "mimetype": "text/x-python",
   "name": "python",
   "nbconvert_exporter": "python",
   "pygments_lexer": "ipython3",
   "version": "3.6.6"
  }
 },
 "nbformat": 4,
 "nbformat_minor": 2
}

{
 "cells": [
  {
   "cell_type": "code",
   "execution_count": 8,
   "metadata": {},
   "outputs": [],
   "source": [
    "from proj1_helpers import *\n",
    "from methods_implementation import *\n",
    "from cross_validation import *\n",
    "from custom_helpers import *\n",
    "import numpy as np\n",
    "import matplotlib.pyplot as plt\n",
    "%matplotlib inline\n",
    "%load_ext autoreload\n",
    "%autoreload 2"
   ]
  },
  {
   "cell_type": "code",
   "execution_count": 9,
   "metadata": {},
   "outputs": [
    {
     "name": "stdout",
     "output_type": "stream",
     "text": [
      "Loading Data...\n",
      "Data loaded\n"
     ]
    }
   ],
   "source": [
    "print(\"Loading Data...\")\n",
    "testing_y, testing_x, ids_test = load_csv_data('data/test.csv')\n",
    "training_y, training_x,ids_train = load_csv_data('data/train.csv')\n",
    "print(\"Data loaded\")\n"
   ]
  },
  {
   "cell_type": "code",
   "execution_count": 13,
   "metadata": {},
   "outputs": [],
   "source": [
    "degree = 1"
   ]
  },
  {
   "cell_type": "code",
   "execution_count": 24,
   "metadata": {},
   "outputs": [
    {
     "name": "stdout",
     "output_type": "stream",
     "text": [
      "For the Lambda: -0.005000 , The LOSS is : 0.825371\n",
      "For the Lambda: 0.000000 , The LOSS is : 1.878971\n",
      "For the Lambda: 0.005000 , The LOSS is : 0.825418\n",
      "For the Lambda: 0.010000 , The LOSS is : 0.825533\n",
      "For the Lambda: 0.015000 , The LOSS is : 0.825666\n",
      "For the Lambda: 0.020000 , The LOSS is : 0.825810\n",
      "For the Lambda: 0.025000 , The LOSS is : 0.825959\n",
      "For the Lambda: 0.030000 , The LOSS is : 0.826112\n",
      "For the Lambda: 0.035000 , The LOSS is : 0.826268\n",
      "For the Lambda: 0.040000 , The LOSS is : 0.826424\n",
      "For the Lambda: 0.045000 , The LOSS is : 0.826582\n",
      "For the Lambda: 0.050000 , The LOSS is : 0.826739\n",
      "For the Lambda: 0.055000 , The LOSS is : 0.826896\n",
      "For the Lambda: 0.060000 , The LOSS is : 0.827052\n",
      "For the Lambda: 0.065000 , The LOSS is : 0.827207\n",
      "For the Lambda: 0.070000 , The LOSS is : 0.827361\n",
      "For the Lambda: 0.075000 , The LOSS is : 0.827512\n",
      "For the Lambda: 0.080000 , The LOSS is : 0.827662\n",
      "For the Lambda: 0.085000 , The LOSS is : 0.827810\n",
      "For the Lambda: 0.090000 , The LOSS is : 0.827956\n",
      "For the Lambda: 0.095000 , The LOSS is : 0.828100\n",
      "The Ridge Regression Cross Validation finished!!\n",
      "Best lambda is : -0.005\n"
     ]
    }
   ],
   "source": [
    "k_fold = 5\n",
    "best_lambda,rmse_tr,rmse_te=ridge_regression_cross_validation_lambdas_plot(training_y,training_x,degree,k_fold)\n"
   ]
  },
  {
   "cell_type": "code",
   "execution_count": 25,
   "metadata": {},
   "outputs": [
    {
     "data": {
      "image/png": "[encoded data removed]",
      "text/plain": [
       "<Figure size 432x288 with 1 Axes>"
      ]
     },
     "metadata": {},
     "output_type": "display_data"
    }
   ],
   "source": [
    "lambda_range = np.arange(-0.005, 0.1, 0.005)\n",
    "#lambda_range = np.arange(-1, 1, 0.05)\n",
    "cross_validation_visualization(lambda_range, rmse_tr, rmse_te)"
   ]
  },
  {
   "cell_type": "code",
   "execution_count": null,
   "metadata": {},
   "outputs": [],
   "source": []
  },
  {
   "cell_type": "code",
   "execution_count": null,
   "metadata": {},
   "outputs": [],
   "source": []
  }
 ],
 "metadata": {
  "kernelspec": {
   "display_name": "Python 3",
   "language": "python",
   "name": "python3"
  },
  "language_info": {
   "codemirror_mode": {
    "name": "ipython",
    "version": 3
   },
   "file_extension": ".py",
   "mimetype": "text/x-python",
   "name": "python",
   "nbconvert_exporter": "python",
   "pygments_lexer": "ipython3",
   "version": "3.6.5"
  }
 },
 "nbformat": 4,
 "nbformat_minor": 2
}

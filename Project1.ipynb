{
 "cells": [
  {
   "cell_type": "code",
   "execution_count": 1,
   "metadata": {},
   "outputs": [],
   "source": [
    "from proj1_helpers import *\n",
    "#from implementations import *\n",
    "#from cross_validation import *\n",
    "import numpy as np\n"
   ]
  },
  {
   "cell_type": "code",
   "execution_count": 2,
   "metadata": {},
   "outputs": [
    {
     "name": "stdout",
     "output_type": "stream",
     "text": [
      "Loading Data, please wait\n",
      "Data loaded!\n"
     ]
    }
   ],
   "source": [
    "# Loading Data\n",
    "print(\"Loading Data, please wait\")\n",
    "pre_test_y, pre_test_x, ids_test = load_csv_data('data/test.csv')\n",
    "pre_train_y, pre_train_x, ids_train = load_csv_data('data/train.csv')\n",
    "print(\"Data loaded!\")"
   ]
  },
  {
   "cell_type": "code",
   "execution_count": 3,
   "metadata": {},
   "outputs": [
    {
     "name": "stdout",
     "output_type": "stream",
     "text": [
      "\n",
      "\n",
      "\n",
      "Correlated values for:  0\n",
      "colum 22 with colum:  0\n",
      "colum 22 with colum:  1\n",
      "colum 22 with colum:  2\n",
      "colum 22 with colum:  3\n",
      "colum 22 with colum:  4\n",
      "colum 22 with colum:  5\n",
      "colum 22 with colum:  6\n",
      "colum 22 with colum:  7\n",
      "colum 22 with colum:  8\n",
      "colum 22 with colum:  9\n",
      "colum 22 with colum:  10\n",
      "colum 22 with colum:  11\n",
      "colum 22 with colum:  12\n",
      "colum 22 with colum:  13\n",
      "colum 22 with colum:  14\n",
      "colum 22 with colum:  15\n",
      "colum 22 with colum:  16\n",
      "colum 22 with colum:  17\n",
      "colum 22 with colum:  18\n",
      "colum 22 with colum:  19\n",
      "colum 22 with colum:  20\n",
      "colum 22 with colum:  21\n",
      "colum 22 with colum:  22\n",
      "colum 22 with colum:  23\n",
      "colum 22 with colum:  24\n",
      "colum 22 with colum:  25\n",
      "colum 22 with colum:  26\n",
      "colum 22 with colum:  27\n",
      "colum 22 with colum:  28\n",
      "colum 22 with colum:  29\n",
      "\n",
      "\n",
      "\n",
      "Correlated values for:  1\n",
      "colum 22 with colum:  0\n",
      "colum 22 with colum:  1\n",
      "colum 22 with colum:  2\n",
      "colum 22 with colum:  3\n",
      "colum 22 with colum:  4\n",
      "colum 22 with colum:  5\n",
      "colum 22 with colum:  6\n",
      "colum 22 with colum:  7\n",
      "colum 22 with colum:  8\n",
      "colum 22 with colum:  9\n",
      "colum 22 with colum:  10\n",
      "colum 22 with colum:  11\n",
      "colum 22 with colum:  12\n",
      "colum 22 with colum:  13\n",
      "colum 22 with colum:  14\n",
      "colum 22 with colum:  15\n",
      "colum 22 with colum:  16\n",
      "colum 22 with colum:  17\n",
      "colum 22 with colum:  18\n",
      "colum 22 with colum:  19\n",
      "colum 22 with colum:  20\n",
      "colum 22 with colum:  21\n",
      "colum 22 with colum:  22\n",
      "colum 22 with colum:  23\n",
      "\tcorrelation: \t 0.5188651835942603\n",
      "colum 22 with colum:  24\n",
      "\tcorrelation: \t 0.5457645325287701\n",
      "colum 22 with colum:  25\n",
      "\tcorrelation: \t 0.5457641626904687\n",
      "colum 22 with colum:  26\n",
      "colum 22 with colum:  27\n",
      "colum 22 with colum:  28\n",
      "colum 22 with colum:  29\n",
      "\n",
      "\n",
      "\n",
      "Correlated values for:  2\n",
      "colum 22 with colum:  0\n",
      "colum 22 with colum:  1\n",
      "colum 22 with colum:  2\n",
      "colum 22 with colum:  3\n",
      "colum 22 with colum:  4\n",
      "\tcorrelation: \t 0.7846848748508639\n",
      "colum 22 with colum:  5\n",
      "\tcorrelation: \t 0.7569082139458511\n",
      "colum 22 with colum:  6\n",
      "\tcorrelation: \t 0.7841172196069622\n",
      "colum 22 with colum:  7\n",
      "colum 22 with colum:  8\n",
      "colum 22 with colum:  9\n",
      "colum 22 with colum:  10\n",
      "colum 22 with colum:  11\n",
      "colum 22 with colum:  12\n",
      "\tcorrelation: \t 0.7844992310934787\n",
      "colum 22 with colum:  13\n",
      "colum 22 with colum:  14\n",
      "colum 22 with colum:  15\n",
      "colum 22 with colum:  16\n",
      "colum 22 with colum:  17\n",
      "colum 22 with colum:  18\n",
      "colum 22 with colum:  19\n",
      "colum 22 with colum:  20\n",
      "colum 22 with colum:  21\n",
      "colum 22 with colum:  22\n",
      "\tcorrelation: \t 0.5234648495152081\n",
      "colum 22 with colum:  23\n",
      "colum 22 with colum:  24\n",
      "colum 22 with colum:  25\n",
      "colum 22 with colum:  26\n",
      "\tcorrelation: \t 0.7776865650869058\n",
      "colum 22 with colum:  27\n",
      "\tcorrelation: \t 0.7844600831600346\n",
      "colum 22 with colum:  28\n",
      "\tcorrelation: \t 0.7844620706041472\n",
      "colum 22 with colum:  29\n",
      "\n",
      "\n",
      "\n",
      "Correlated values for:  3\n",
      "colum 22 with colum:  0\n",
      "colum 22 with colum:  1\n",
      "colum 22 with colum:  2\n",
      "colum 22 with colum:  3\n",
      "colum 22 with colum:  4\n",
      "colum 22 with colum:  5\n",
      "colum 22 with colum:  6\n",
      "colum 22 with colum:  7\n",
      "colum 22 with colum:  8\n",
      "\tcorrelation: \t 0.5068189127884684\n",
      "colum 22 with colum:  9\n",
      "\tcorrelation: \t 0.5373193380994697\n",
      "colum 22 with colum:  10\n",
      "colum 22 with colum:  11\n",
      "colum 22 with colum:  12\n",
      "colum 22 with colum:  13\n",
      "colum 22 with colum:  14\n",
      "colum 22 with colum:  15\n",
      "colum 22 with colum:  16\n",
      "colum 22 with colum:  17\n",
      "colum 22 with colum:  18\n",
      "colum 22 with colum:  19\n",
      "colum 22 with colum:  20\n",
      "colum 22 with colum:  21\n",
      "\tcorrelation: \t 0.5055713982679929\n",
      "colum 22 with colum:  22\n",
      "\tcorrelation: \t 0.6461222708966406\n",
      "colum 22 with colum:  23\n",
      "colum 22 with colum:  24\n",
      "colum 22 with colum:  25\n",
      "colum 22 with colum:  26\n",
      "colum 22 with colum:  27\n",
      "colum 22 with colum:  28\n",
      "colum 22 with colum:  29\n",
      "\tcorrelation: \t 0.5792792546045494\n"
     ]
    }
   ],
   "source": [
    "# find correlated values\n",
    "for i in range(0,4):\n",
    "    print(\"\\n\\n\\nCorrelated values for: \",i)\n",
    "    for j in range(0,30):\n",
    "        print(\"colum 22 with colum: \",j)\n",
    "        a=np.corrcoef((pre_test_x[:,22]==i),pre_test_x[:,j])\n",
    "#         print(a)\n",
    "        if(a[(0,1)]>0.5):\n",
    "            print(\"\\tcorrelation:\",'\\t',a[0,1])\n",
    "        "
   ]
  },
  {
   "cell_type": "code",
   "execution_count": 4,
   "metadata": {},
   "outputs": [
    {
     "name": "stdout",
     "output_type": "stream",
     "text": [
      "\n",
      "Categorical Training for value:  0\n",
      "\n",
      "Now we will remove the correlated features of corr_jets =i:  0\n",
      "\n",
      "Categorical Training for value:  1\n",
      "\n",
      "Now we will remove the correlated features of corr_jets =i:  1\n",
      "\n",
      "Categorical Training for value:  2\n",
      "\n",
      "Now we will remove the correlated features of corr_jets =i:  2\n",
      "\n",
      "Categorical Training for value:  3\n",
      "\n",
      "Now we will remove the correlated features of corr_jets =i:  3\n"
     ]
    }
   ],
   "source": [
    "# In the dateset, we found that the Column[22] PRI_jet_num dataset is categorical with Four categories defined.\n",
    "column_jet_pri = 22\n",
    "pred_y = []\n",
    "ids_pred_y = []\n",
    "\n",
    "# Correlated features corresponding to categorical feature, PRI_jet_num. We will split in four groups according to\n",
    "#the categorical values.\n",
    "correlated_features = [[22], [22,23,24,25], [4,5,6,12,22,26,27,28], [8,9,21,22,29]]\n",
    "\n",
    "for corr_jets in range(0, 4):\n",
    "    print(\"\\nCategorical Training for value: \",corr_jets)\n",
    "\n",
    "    # Save data for the categorical value of PRI_jet_num = i\n",
    "    test_x = pre_test_x[pre_test_x[:, column_jet_pri] == corr_jets]\n",
    "    test_y = pre_test_y[pre_test_x[:, column_jet_pri] == corr_jets]\n",
    "    id_test = ids_test[pre_test_x[:, column_jet_pri] == corr_jets]\n",
    "\n",
    "    train_x = pre_train_x[pre_train_x[:, column_jet_pri] == corr_jets]\n",
    "    train_y = pre_train_y[pre_train_x[:, column_jet_pri] == corr_jets]\n",
    "    id_train = ids_train[pre_train_x[:, column_jet_pri] == corr_jets]\n",
    "#     print(\"\\ntrain_x: \\n\", train_x)\n",
    "    print(\"\\nNow we will remove the correlated features of corr_jets =i: \", corr_jets)\n",
    "    # Delete the correlted features of corr_jets = is\n",
    "    test_x = np.delete(test_x, correlated_features[corr_jets], axis=1)\n",
    "    train_x = np.delete(train_x, correlated_features[corr_jets], axis=1)\n"
   ]
  },
  {
   "cell_type": "code",
   "execution_count": 5,
   "metadata": {},
   "outputs": [
    {
     "name": "stdout",
     "output_type": "stream",
     "text": [
      "Now we will remove the invalid values =-999\n"
     ]
    },
    {
     "data": {
      "text/plain": [
       "-15.347"
      ]
     },
     "execution_count": 5,
     "metadata": {},
     "output_type": "execute_result"
    }
   ],
   "source": [
    "print(\"Now we will remove the invalid values =-999\")\n",
    "# Remove the invalid value and replace it with the mean of the column.\n",
    "train_x = remove_outliers_max(train_x)\n",
    "test_x = remove_outliers_max(test_x)\n",
    "train_x.min()\n",
    "\n"
   ]
  },
  {
   "cell_type": "code",
   "execution_count": 6,
   "metadata": {},
   "outputs": [
    {
     "name": "stdout",
     "output_type": "stream",
     "text": [
      "Now we will remove the outliers and replace them with the most frecuent number.\n"
     ]
    },
    {
     "data": {
      "text/plain": [
       "-5.092"
      ]
     },
     "execution_count": 6,
     "metadata": {},
     "output_type": "execute_result"
    }
   ],
   "source": [
    "print(\"Now we will remove the outliers and replace them with the most frecuent number.\")\n",
    "# Replaces outliers by the most common element in the column.\n",
    "train_x = remove_outliers(train_x)\n",
    "test_x = remove_outliers(test_x)\n",
    "test_x.min()"
   ]
  },
  {
   "cell_type": "code",
   "execution_count": null,
   "metadata": {},
   "outputs": [],
   "source": []
  },
  {
   "cell_type": "code",
   "execution_count": null,
   "metadata": {},
   "outputs": [],
   "source": []
  },
  {
   "cell_type": "code",
   "execution_count": null,
   "metadata": {},
   "outputs": [],
   "source": []
  }
 ],
 "metadata": {
  "kernelspec": {
   "display_name": "Python 3",
   "language": "python",
   "name": "python3"
  },
  "language_info": {
   "codemirror_mode": {
    "name": "ipython",
    "version": 3
   },
   "file_extension": ".py",
   "mimetype": "text/x-python",
   "name": "python",
   "nbconvert_exporter": "python",
   "pygments_lexer": "ipython3",
   "version": "3.6.5"
  }
 },
 "nbformat": 4,
 "nbformat_minor": 2
}
